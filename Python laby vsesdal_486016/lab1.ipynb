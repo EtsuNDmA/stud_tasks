{
 "cells": [
  {
   "cell_type": "markdown",
   "metadata": {},
   "source": [
    "# Лабораторная работа №1\n"
   ]
  },
  {
   "cell_type": "markdown",
   "metadata": {},
   "source": [
    "## Задание №1"
   ]
  },
  {
   "cell_type": "code",
   "execution_count": 6,
   "metadata": {
    "collapsed": false
   },
   "outputs": [
    {
     "data": {
      "image/png": "[encoded data removed]",
      "text/plain": [
       "<matplotlib.figure.Figure at 0x4978ef0>"
      ]
     },
     "metadata": {},
     "output_type": "display_data"
    }
   ],
   "source": [
    "# Чтобы картинки отображались сразу под этой ячейкой кода\n",
    "%matplotlib inline \n",
    "from matplotlib import pyplot as plt\n",
    "import numpy as np\n",
    "# Рассчитываем кривую\n",
    "x = np.arange(-4., 4, 0.1);\n",
    "y = -x**2+x+1\n",
    "# Строим график\n",
    "plt.plot(x, y)\n",
    "# Добавляем сетку, название, подпись\n",
    "plt.grid()\n",
    "plt.xlabel('x')\n",
    "plt.ylabel('y')\n",
    "plt.title('График функции $y(x)=-x^2+x+1, x=4.00,...,-4.00$', family=\"Times New Roman\")\n",
    "# Отображаем график\n",
    "plt.show()"
   ]
  },
  {
   "cell_type": "markdown",
   "metadata": {},
   "source": [
    "## Задание 2"
   ]
  },
  {
   "cell_type": "code",
   "execution_count": 4,
   "metadata": {
    "collapsed": false
   },
   "outputs": [
    {
     "name": "stdout",
     "output_type": "stream",
     "text": [
      "A=\n",
      "[[ 0.55697131  0.44948488  0.83189733]\n",
      " [ 0.88406053  0.89672067  0.61984504]\n",
      " [ 0.96484302  0.83013511  0.57176261]]\n",
      "A^-1=\n",
      "[[ 0.02685946 -6.31632321  6.80841536]\n",
      " [-1.34866994  7.05353493 -5.68442865]\n",
      " [ 1.91279229  0.41778417 -1.48699518]]\n",
      "b = [ 0.09767578  0.07333781  0.84675904]\n",
      "Решение СЛАУ Ax=b\n",
      "x= [ 5.30448551 -4.42778298 -1.04165376]\n"
     ]
    }
   ],
   "source": [
    "A = np.random.rand(3,3)\n",
    "invA = np.linalg.inv(A)\n",
    "b = np.random.rand(3)\n",
    "x = np.linalg.solve(A,b)\n",
    "\n",
    "print('A=')\n",
    "print(A)\n",
    "print('A^-1=')\n",
    "print(invA)\n",
    "print('b = {}'.format(b))\n",
    "print('Решение СЛАУ Ax=b')\n",
    "print('x= {}'.format(x))"
   ]
  },
  {
   "cell_type": "markdown",
   "metadata": {},
   "source": [
    "## Задание №3"
   ]
  },
  {
   "cell_type": "code",
   "execution_count": 12,
   "metadata": {
    "collapsed": false
   },
   "outputs": [
    {
     "data": {
      "image/png": "[encoded data removed]",
      "text/plain": [
       "<matplotlib.figure.Figure at 0x792e828>"
      ]
     },
     "metadata": {},
     "output_type": "display_data"
    }
   ],
   "source": [
    "from ipywidgets import widgets\n",
    "\n",
    "\n",
    "# Функция расчета эллипса\n",
    "def ellipsis(t, x0, y0, a, b):\n",
    "    x = x0+a*np.cos(t)\n",
    "    y = y0+b*np.sin(t)\n",
    "    return x, y\n",
    "\n",
    "# Функция расчета гиперболы\n",
    "def hyperbola(t, x0, y0, a, b):\n",
    "    x1 = x0+a*np.cosh(t) # Для первой ветви\n",
    "    x2 = x0-a*np.cosh(t) # Для второй ветви\n",
    "    y = y0+b*np.sinh(t)\n",
    "    return x1, x2, y\n",
    "\n",
    "# Эту функцию передадим в виджет\n",
    "def act(a, b):\n",
    "    \n",
    "    t_e = np.arange(0, 2*np.pi+0.1, 0.1) # t для эллипса\n",
    "    x0_e, y0_e = 0, 0 # Центр эллипса\n",
    "    x_e, y_e = ellipsis(t_e, x0_e, y0_e, a, b) # Расчет эллипаса\n",
    "    \n",
    "\n",
    "    t_g = np.arange(-2, 2, 0.01) # t для гиперболы\n",
    "    x0_g, y0_g = 0, 0 # Центр гиперболы\n",
    "    x1_g, x2_g, y_g = hyperbola(t_g, x0_g, y0_g, a, b) # Расчет гиперболы\n",
    "    \n",
    "    # Строим графики\n",
    "    plt.plot(x_e, y_e)\n",
    "    plt.plot(x1_g, y_g, color='green')\n",
    "    plt.plot(x2_g, y_g, color='green')\n",
    "    # Настраиваем оси\n",
    "    plt.xlim([-6, 6])\n",
    "    plt.ylim([-6, 6])\n",
    "    plt.xlabel('x')\n",
    "    plt.ylabel('y')\n",
    "    plt.grid()\n",
    "    plt.show()\n",
    "    \n",
    "# Создаем виджет\n",
    "widgets.interact(act, a=(0.1, 5.0), b=(0.1, 5.0))\n",
    "\n",
    "\n"
   ]
  },
  {
   "cell_type": "markdown",
   "metadata": {},
   "source": [
    "## Задание №4"
   ]
  },
  {
   "cell_type": "code",
   "execution_count": 14,
   "metadata": {
    "collapsed": false
   },
   "outputs": [],
   "source": [
    "import csv\n",
    "from math import sin\n",
    "\n",
    "x = [0.1*i for i in range(0, 32)]\n",
    "param = 1\n",
    "\n",
    "# Создаем тестовую функцию с параметром p\n",
    "def f(x, p):\n",
    "    return sin(x+p)\n",
    "# Записываем csv\n",
    "with open('lab1zad4.csv', 'w', newline='') as csvfile:\n",
    "    writer = csv.writer(csvfile, delimiter=',')\n",
    "    writer.writerows([[arg, param, f(arg, param)] for arg in x])"
   ]
  },
  {
   "cell_type": "code",
   "execution_count": 15,
   "metadata": {
    "collapsed": false
   },
   "outputs": [],
   "source": [
    "# Создаем пустые листы и пустые массивы\n",
    "x_list = []\n",
    "p_list = []\n",
    "f_list = []\n",
    "\n",
    "x_array = np.empty(0, dtype=float)\n",
    "p_array = np.empty(0, dtype=float)\n",
    "f_array = np.empty(0, dtype=float)\n",
    "\n",
    "# Считываем csv\n",
    "with open('lab1zad4.csv', 'r', newline='') as csvfile:\n",
    "    reader = csv.reader(csvfile, delimiter=',')\n",
    "    for row in reader:\n",
    "        # Записываем в листы\n",
    "        x_list.append(row[0])\n",
    "        p_list.append(row[1])\n",
    "        f_list.append(row[2])\n",
    "        #  Записываем в массивы\n",
    "        x_array = np.hstack((x_array, np.float(row[0])))\n",
    "        p_array = np.hstack((p_array, np.float(row[1])))\n",
    "        f_array = np.hstack((f_array, np.float(row[2])))"
   ]
  },
  {
   "cell_type": "code",
   "execution_count": 16,
   "metadata": {
    "collapsed": true
   },
   "outputs": [],
   "source": [
    "# Теперь считываем с помощью numpy.genfromtxt\n",
    "csv_data = np.genfromtxt ('lab1zad4.csv', delimiter=\",\")\n",
    "x_array1 = csv_data[:,0]\n",
    "p_array1 = csv_data[:,1]\n",
    "f_array1 = csv_data[:,2]"
   ]
  },
  {
   "cell_type": "code",
   "execution_count": 17,
   "metadata": {
    "collapsed": false
   },
   "outputs": [
    {
     "name": "stdout",
     "output_type": "stream",
     "text": [
      "True\n",
      "True\n",
      "True\n"
     ]
    }
   ],
   "source": [
    "# Сравниваем результаты, должно получиться все True\n",
    "print(np.array_equal(x_array, x_array1))\n",
    "print(np.array_equal(p_array, p_array1))\n",
    "print(np.array_equal(f_array, f_array1))"
   ]
  },
  {
   "cell_type": "markdown",
   "metadata": {},
   "source": [
    "## Задание №5"
   ]
  },
  {
   "cell_type": "code",
   "execution_count": 21,
   "metadata": {
    "collapsed": false
   },
   "outputs": [
    {
     "data": {
      "image/png": "[encoded data removed]",
      "text/plain": [
       "<matplotlib.figure.Figure at 0x8f7a908>"
      ]
     },
     "metadata": {},
     "output_type": "display_data"
    }
   ],
   "source": [
    "def vect(rho, phi):\n",
    "    \n",
    "    # Функция перевода из полярных координат в декартовы\n",
    "    def pol2cart(rho, phi):\n",
    "        x = rho * np.cos(phi)\n",
    "        y = rho * np.sin(phi)\n",
    "        return(x, y)\n",
    "    # Переводим из полярных координат в декартовы\n",
    "    x, y =pol2cart(rho, phi)\n",
    "    # Строим график\n",
    "    arrow = plt.arrow(0, 0, x, y, head_width=0.1, length_includes_head=True, fc='k', ec='k')\n",
    "    # Строим легенду, оси и т.д.\n",
    "    plt.legend([arrow,], ['$v=({:.4f},{:.4})^T$'.format(x, y),])\n",
    "    plt.grid\n",
    "    plt.xlim([-3, 3])\n",
    "    plt.ylim([-3, 3])\n",
    "    plt.grid()\n",
    "    plt.xlabel('x')\n",
    "    plt.ylabel('y')\n",
    "    plt.show()\n",
    "    \n",
    "widgets.interact(vect, rho=(0.1, 2.5), phi=(0.0, 2*np.pi))"
   ]
  },
  {
   "cell_type": "code",
   "execution_count": null,
   "metadata": {
    "collapsed": true
   },
   "outputs": [],
   "source": []
  }
 ],
 "metadata": {
  "anaconda-cloud": {},
  "kernelspec": {
   "display_name": "Python [conda root]",
   "language": "python",
   "name": "conda-root-py"
  },
  "language_info": {
   "codemirror_mode": {
    "name": "ipython",
    "version": 3
   },
   "file_extension": ".py",
   "mimetype": "text/x-python",
   "name": "python",
   "nbconvert_exporter": "python",
   "pygments_lexer": "ipython3",
   "version": "3.5.2"
  }
 },
 "nbformat": 4,
 "nbformat_minor": 0
}
