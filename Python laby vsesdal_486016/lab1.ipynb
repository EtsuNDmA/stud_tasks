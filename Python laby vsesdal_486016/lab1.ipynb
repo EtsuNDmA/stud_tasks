{
 "cells": [
  {
   "cell_type": "markdown",
   "metadata": {},
   "source": [
    "# Лабораторная работа №1\n"
   ]
  },
  {
   "cell_type": "markdown",
   "metadata": {},
   "source": [
    "## Задание №1"
   ]
  },
  {
   "cell_type": "code",
   "execution_count": 29,
   "metadata": {
    "collapsed": false
   },
   "outputs": [
    {
     "data": {
      "image/png": "[encoded data removed]",
      "text/plain": [
       "<matplotlib.figure.Figure at 0x825cd68>"
      ]
     },
     "metadata": {},
     "output_type": "display_data"
    }
   ],
   "source": [
    "%matplotlib inline\n",
    "from matplotlib import pyplot as plt\n",
    "import numpy as np\n",
    "x = np.arange(-4., 4, 0.1);\n",
    "y = -x**2+x+1\n",
    "plt.plot(x, y)\n",
    "plt.grid()\n",
    "plt.xlabel('x')\n",
    "plt.ylabel('y')\n",
    "plt.title('График функции $y(x)=-x^2+x+1, x=4.00,...,-4.00$', family=\"Times New Roman\")\n",
    "plt.show()"
   ]
  },
  {
   "cell_type": "markdown",
   "metadata": {},
   "source": [
    "## Задание 2"
   ]
  },
  {
   "cell_type": "code",
   "execution_count": 59,
   "metadata": {
    "collapsed": false
   },
   "outputs": [
    {
     "name": "stdout",
     "output_type": "stream",
     "text": [
      "A=\n",
      "[[ 0.87012414  0.58227693  0.27883894]\n",
      " [ 0.18591123  0.41110013  0.11737555]\n",
      " [ 0.68496874  0.43761106  0.55622933]]\n",
      "A^-1=\n",
      "[[ 2.08485641 -2.37359945 -0.54426584]\n",
      " [-0.27057925  3.44525485 -0.59137594]\n",
      " [-2.35451988  0.21243003  2.93331844]]\n",
      "b = [ 0.36708032  0.40236573  0.1130407 ]\n",
      "Решение СЛАУ Ax=b\n",
      "x= [-0.2512695   1.22007861 -0.44723898]\n"
     ]
    }
   ],
   "source": [
    "np.random.seed(25)\n",
    "A = np.random.rand(3,3)\n",
    "invA = np.linalg.inv(A)\n",
    "b = np.random.rand(3)\n",
    "x = np.linalg.solve(A,b)\n",
    "\n",
    "print('A=')\n",
    "print(A)\n",
    "print('A^-1=')\n",
    "print(invA)\n",
    "print('b = {}'.format(b))\n",
    "print('Решение СЛАУ Ax=b')\n",
    "print('x= {}'.format(x))"
   ]
  }
 ],
 "metadata": {
  "kernelspec": {
   "display_name": "Python [Root]",
   "language": "python",
   "name": "Python [Root]"
  },
  "language_info": {
   "codemirror_mode": {
    "name": "ipython",
    "version": 3
   },
   "file_extension": ".py",
   "mimetype": "text/x-python",
   "name": "python",
   "nbconvert_exporter": "python",
   "pygments_lexer": "ipython3",
   "version": "3.5.2"
  }
 },
 "nbformat": 4,
 "nbformat_minor": 0
}
