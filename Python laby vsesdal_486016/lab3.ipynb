{
 "cells": [
  {
   "cell_type": "markdown",
   "metadata": {},
   "source": [
    "# Лабораторная работа №3"
   ]
  },
  {
   "cell_type": "code",
   "execution_count": 28,
   "metadata": {
    "collapsed": false
   },
   "outputs": [
    {
     "data": {
      "image/png": "[encoded data removed]",
      "text/plain": [
       "<matplotlib.figure.Figure at 0x7630128>"
      ]
     },
     "metadata": {},
     "output_type": "display_data"
    }
   ],
   "source": [
    "%matplotlib inline\n",
    "import numpy as np\n",
    "from matplotlib import pyplot as plt\n",
    "\n",
    "# Для отображения русского текста на графиках\n",
    "from matplotlib import rc\n",
    "font = {'family': \"Times New Roman\",\n",
    "        'weight': 'normal'}\n",
    "rc('font', **font)\n",
    "\n",
    "# Задаем слудующую кривую\n",
    "def f(t):\n",
    "    return t**2*np.exp(-t/5)+5*np.sin(t/2)\n",
    "\n",
    "# Рассчитываем истинную кривую\n",
    "t_real = np.linspace(0, 30, 500)\n",
    "p_real = f(t_real)"
   ]
  },
  {
   "cell_type": "code",
   "execution_count": 30,
   "metadata": {
    "collapsed": true
   },
   "outputs": [],
   "source": [
    "# Берем N точек кривой чтобы построить ломаную\n",
    "N = 10\n",
    "t_points = np.linspace(0, 30, N)\n",
    "p_points = f(t_points)"
   ]
  },
  {
   "cell_type": "code",
   "execution_count": null,
   "metadata": {
    "collapsed": true
   },
   "outputs": [],
   "source": [
    "# Сплайн Ньютона"
   ]
  },
  {
   "cell_type": "code",
   "execution_count": null,
   "metadata": {
    "collapsed": true
   },
   "outputs": [],
   "source": [
    "# Сплайн Лагранжа"
   ]
  },
  {
   "cell_type": "code",
   "execution_count": null,
   "metadata": {
    "collapsed": true
   },
   "outputs": [],
   "source": [
    "# Кубический сплайн"
   ]
  },
  {
   "cell_type": "code",
   "execution_count": null,
   "metadata": {
    "collapsed": true
   },
   "outputs": [],
   "source": [
    "# Сплайн Эрмита\n",
    "import bisect\n",
    "lst = [207, 357, 470, 497, 537]\n",
    "\n",
    "\n",
    "def hermit_spline(t_array, t_points, p_points, dpdt_points):\n",
    "    for t in t_array:\n",
    "        # Находим интервал в который попадает t\n",
    "        # k: t_points[k-1] <= t <= t_points[k]\n",
    "        k = bisect.bisect_left(t_points, t)\n",
    "        w = (t-t_points[k-1])/(t_points[k]-t_points[k-1])\n",
    "        a0 = 1-3*w**2+2*w**3\n",
    "        a1 = 3*w**2-2*w**3\n",
    "        \n",
    "        "
   ]
  },
  {
   "cell_type": "code",
   "execution_count": null,
   "metadata": {
    "collapsed": true
   },
   "outputs": [],
   "source": [
    "# Строим график\n",
    "plt.plot(t_real, p_real, label='Истинная кривая')\n",
    "plt.plot(t_points, p_points, label='Ломаная', marker='o')\n",
    "\n",
    "plt.legend()\n",
    "plt.show()"
   ]
  }
 ],
 "metadata": {
  "kernelspec": {
   "display_name": "Python [Root]",
   "language": "python",
   "name": "Python [Root]"
  },
  "language_info": {
   "codemirror_mode": {
    "name": "ipython",
    "version": 3
   },
   "file_extension": ".py",
   "mimetype": "text/x-python",
   "name": "python",
   "nbconvert_exporter": "python",
   "pygments_lexer": "ipython3",
   "version": "3.5.2"
  }
 },
 "nbformat": 4,
 "nbformat_minor": 0
}
