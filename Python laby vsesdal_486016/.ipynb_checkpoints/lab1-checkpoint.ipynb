{
 "cells": [
  {
   "cell_type": "markdown",
   "metadata": {},
   "source": [
    "# Лабораторная работа №1\n"
   ]
  },
  {
   "cell_type": "markdown",
   "metadata": {},
   "source": [
    "## Задание №1"
   ]
  },
  {
   "cell_type": "code",
   "execution_count": 1,
   "metadata": {
    "collapsed": false
   },
   "outputs": [
    {
     "data": {
      "image/png": "[encoded data removed]",
      "text/plain": [
       "<matplotlib.figure.Figure at 0x42d1dd8>"
      ]
     },
     "metadata": {},
     "output_type": "display_data"
    }
   ],
   "source": [
    "%matplotlib inline\n",
    "from matplotlib import pyplot as plt\n",
    "import numpy as np\n",
    "x = np.arange(-4., 4, 0.1);\n",
    "y = -x**2+x+1\n",
    "plt.plot(x, y)\n",
    "plt.grid()\n",
    "plt.xlabel('x')\n",
    "plt.ylabel('y')\n",
    "plt.title('График функции $y(x)=-x^2+x+1, x=4.00,...,-4.00$', family=\"Times New Roman\")\n",
    "plt.show()"
   ]
  },
  {
   "cell_type": "markdown",
   "metadata": {},
   "source": [
    "## Задание 2"
   ]
  },
  {
   "cell_type": "code",
   "execution_count": 2,
   "metadata": {
    "collapsed": false
   },
   "outputs": [
    {
     "name": "stdout",
     "output_type": "stream",
     "text": [
      "A=\n",
      "[[ 0.87012414  0.58227693  0.27883894]\n",
      " [ 0.18591123  0.41110013  0.11737555]\n",
      " [ 0.68496874  0.43761106  0.55622933]]\n",
      "A^-1=\n",
      "[[ 2.08485641 -2.37359945 -0.54426584]\n",
      " [-0.27057925  3.44525485 -0.59137594]\n",
      " [-2.35451988  0.21243003  2.93331844]]\n",
      "b = [ 0.36708032  0.40236573  0.1130407 ]\n",
      "Решение СЛАУ Ax=b\n",
      "x= [-0.2512695   1.22007861 -0.44723898]\n"
     ]
    }
   ],
   "source": [
    "np.random.seed(25)\n",
    "A = np.random.rand(3,3)\n",
    "invA = np.linalg.inv(A)\n",
    "b = np.random.rand(3)\n",
    "x = np.linalg.solve(A,b)\n",
    "\n",
    "print('A=')\n",
    "print(A)\n",
    "print('A^-1=')\n",
    "print(invA)\n",
    "print('b = {}'.format(b))\n",
    "print('Решение СЛАУ Ax=b')\n",
    "print('x= {}'.format(x))"
   ]
  },
  {
   "cell_type": "markdown",
   "metadata": {},
   "source": [
    "## Задание №3"
   ]
  },
  {
   "cell_type": "code",
   "execution_count": 3,
   "metadata": {
    "collapsed": false
   },
   "outputs": [
    {
     "data": {
      "image/png": "[encoded data removed]",
      "text/plain": [
       "<matplotlib.figure.Figure at 0x7b87be0>"
      ]
     },
     "metadata": {},
     "output_type": "display_data"
    },
    {
     "data": {
      "text/plain": [
       "<function __main__.act>"
      ]
     },
     "execution_count": 3,
     "metadata": {},
     "output_type": "execute_result"
    }
   ],
   "source": [
    "from ipywidgets import widgets\n",
    "t_e = np.arange(0, 2*np.pi+0.1, 0.1)\n",
    "a, b = 4, 2\n",
    "\n",
    "x0_e, y0_e = 0, 0\n",
    "\n",
    "def ellipsis(t, x0, y0, a, b):\n",
    "    x = x0+a*np.cos(t)\n",
    "    y = y0+b*np.sin(t)\n",
    "    return x, y\n",
    "\n",
    "def hyperbola(t, x0, y0, a, b):\n",
    "    x1 = x0+a*np.cosh(t)\n",
    "    x2 = x0-a*np.cosh(t)\n",
    "    y = y0+b*np.sinh(t)\n",
    "    return x1, x2, y\n",
    "\n",
    "def act(a, b):\n",
    "    x_e, y_e =ellipsis(t_e, x0_e, y0_e, a, b)\n",
    "    plt.plot(x_e, y_e)\n",
    "\n",
    "    t_g = np.arange(-2, 2, 0.01)\n",
    "    x0_g, y0_g = 0, 0\n",
    "    x1_g, x2_g, y_g = hyperbola(t_g, x0_g, y0_g, a, b)\n",
    "    plt.plot(x1_g, y_g, color='green')\n",
    "    plt.plot(x2_g, y_g, color='green')\n",
    "    plt.xlim([-6, 6])\n",
    "    plt.ylim([-6, 6])\n",
    "    plt.grid()\n",
    "    plt.show()\n",
    "widgets.interact(act, a=1.0, b=1.0)\n",
    "\n",
    "\n"
   ]
  },
  {
   "cell_type": "markdown",
   "metadata": {},
   "source": [
    "## Задание №4"
   ]
  },
  {
   "cell_type": "code",
   "execution_count": 62,
   "metadata": {
    "collapsed": false
   },
   "outputs": [],
   "source": [
    "import csv\n",
    "from math import sin\n",
    "\n",
    "x = [0.1*i for i in range(0, 32)]\n",
    "param = 1\n",
    "\n",
    "def f(x, p):\n",
    "    return sin(x+p)\n",
    "# Write csv\n",
    "with open('lab1zad4.csv', 'w', newline='') as csvfile:\n",
    "    writer = csv.writer(csvfile, delimiter=',', quoting=csv.QUOTE_NONE)\n",
    "    writer.writerows([[arg, param, f(arg, param)] for arg in x])"
   ]
  },
  {
   "cell_type": "code",
   "execution_count": 66,
   "metadata": {
    "collapsed": false
   },
   "outputs": [],
   "source": [
    "# Read csv\n",
    "x_list = []\n",
    "p_list = []\n",
    "f_list = []\n",
    "\n",
    "x_array = np.empty(0, dtype=float)\n",
    "p_array = np.empty(0, dtype=float)\n",
    "f_array = np.empty(0, dtype=float)\n",
    "with open('lab1zad4.csv', 'r', newline='') as csvfile:\n",
    "    reader = csv.reader(csvfile, delimiter=',')\n",
    "    for row in reader:\n",
    "        x_list.append(row[0])\n",
    "        p_list.append(row[1])\n",
    "        f_list.append(row[2])\n",
    "        \n",
    "        x_array = np.hstack((x_array, np.float(row[0])))\n",
    "        p_array = np.hstack((p_array, np.float(row[1])))\n",
    "        f_array = np.hstack((f_array, np.float(row[2])))"
   ]
  },
  {
   "cell_type": "code",
   "execution_count": 67,
   "metadata": {
    "collapsed": true
   },
   "outputs": [],
   "source": [
    "# Do the same with numpy.genfromtxt\n",
    "csv_data = np.genfromtxt ('lab1zad4.csv', delimiter=\",\")\n",
    "x_array1 = csv_data[:,0]\n",
    "p_array1 = csv_data[:,1]\n",
    "f_array1 = csv_data[:,2]"
   ]
  },
  {
   "cell_type": "code",
   "execution_count": 70,
   "metadata": {
    "collapsed": false
   },
   "outputs": [
    {
     "name": "stdout",
     "output_type": "stream",
     "text": [
      "True\n",
      "True\n",
      "True\n"
     ]
    }
   ],
   "source": [
    "# Test results\n",
    "print(np.array_equal(x_array, x_array1))\n",
    "print(np.array_equal(p_array, p_array1))\n",
    "print(np.array_equal(f_array, f_array1))"
   ]
  },
  {
   "cell_type": "markdown",
   "metadata": {},
   "source": [
    "## Задание №5"
   ]
  },
  {
   "cell_type": "code",
   "execution_count": 118,
   "metadata": {
    "collapsed": false
   },
   "outputs": [
    {
     "data": {
      "image/png": "[encoded data removed]",
      "text/plain": [
       "<matplotlib.figure.Figure at 0x7c42c50>"
      ]
     },
     "metadata": {},
     "output_type": "display_data"
    }
   ],
   "source": [
    "def vect(rho, phi):\n",
    "    def pol2cart(rho, phi):\n",
    "        x = rho * np.cos(phi)\n",
    "        y = rho * np.sin(phi)\n",
    "        return(x, y)\n",
    "    x, y =pol2cart(rho, phi)\n",
    "    f = plt.figure()\n",
    "    # Через блок try чтобы не выскакивала ошибка, когда ползунком задается rho=0.0\n",
    "    try:\n",
    "        arrow = plt.arrow(0, 0, x, y, head_width=0.1, length_includes_head=True, fc='k', ec='k')\n",
    "        plt.legend([arrow,], ['$v=({:.4f},{:.4})^T$'.format(x, y),])\n",
    "    except ValueError:\n",
    "        print('Bad rho value')\n",
    "    plt.grid\n",
    "    plt.xlim([-3, 3])\n",
    "    plt.ylim([-3, 3])\n",
    "    plt.grid()\n",
    "    plt.show()\n",
    "    \n",
    "widgets.interact(vect, rho=2.0, phi=np.pi)"
   ]
  }
 ],
 "metadata": {
  "anaconda-cloud": {},
  "kernelspec": {
   "display_name": "Python [Root]",
   "language": "python",
   "name": "Python [Root]"
  },
  "language_info": {
   "codemirror_mode": {
    "name": "ipython",
    "version": 3
   },
   "file_extension": ".py",
   "mimetype": "text/x-python",
   "name": "python",
   "nbconvert_exporter": "python",
   "pygments_lexer": "ipython3",
   "version": "3.5.2"
  }
 },
 "nbformat": 4,
 "nbformat_minor": 0
}
