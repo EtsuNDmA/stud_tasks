{
 "cells": [
  {
   "cell_type": "code",
   "execution_count": 1,
   "metadata": {
    "collapsed": false
   },
   "outputs": [],
   "source": [
    "%matplotlib inline\n",
    "#Load data\n",
    "import xlrd, xlwt\n",
    "workbook = xlrd.open_workbook('DATA_strategy-16may.xlsx')\n",
    "first_sheet = workbook.sheet_by_index(0) # get the first worksheet\n",
    "# Number of rows\n",
    "nrows = first_sheet.nrows"
   ]
  },
  {
   "cell_type": "code",
   "execution_count": 2,
   "metadata": {
    "collapsed": false
   },
   "outputs": [],
   "source": [
    "import numpy as np\n",
    "# Fill numpy arrays with zeros \n",
    "MovingAVR1 = np.zeros(nrows)\n",
    "MovingAVR2 = np.zeros(nrows)\n",
    "MovingAVR3 = np.zeros(nrows)\n",
    "MovingAVR4 = np.zeros(nrows)\n",
    "MovingAVR5 = np.zeros(nrows)\n",
    "IndicatorBUY = np.zeros(nrows)\n",
    "IndicatorSELL = np.zeros(nrows)\n",
    "PNL = np.zeros(nrows)\n",
    "TrendIndic1 = np.zeros(nrows)\n",
    "TrendIndic2 = np.zeros(nrows)\n",
    "TrendIndic3 = np.zeros(nrows)\n",
    "TrendIndic4 = np.zeros(nrows)\n",
    "TrendIndic5 = np.zeros(nrows)\n",
    "BookIndic1 = np.zeros(nrows)\n",
    "BookIndic2 = np.zeros(nrows)\n",
    "AverageDif = np.zeros(nrows)\n",
    "reg = np.zeros(nrows)\n",
    "IndicatorBUY = np.zeros(nrows)\n",
    "IndicatorSELL = np.zeros(nrows)\n",
    "R = np.zeros(nrows)\n",
    "Intersept = np.zeros(nrows)"
   ]
  },
  {
   "cell_type": "code",
   "execution_count": 3,
   "metadata": {
    "collapsed": true
   },
   "outputs": [],
   "source": [
    "#Parameters\n",
    "lot = 70\n",
    "Maxposition = 8\n",
    "Minposition = -8\n",
    "Threshold = 150"
   ]
  },
  {
   "cell_type": "code",
   "execution_count": 4,
   "metadata": {
    "collapsed": true
   },
   "outputs": [],
   "source": [
    "Time = np.array(first_sheet.col_values(0))\n",
    "FB = lot*np.array(first_sheet.col_values(1)) #Best Bid price\n",
    "FA = lot*np.array(first_sheet.col_values(2)) #Best Ask price\n",
    "averageFB = (FB+FA)/2.0\n",
    "\n",
    "BIDSize1 = np.array(first_sheet.col_values(3))\n",
    "ASKSize1 = np.array(first_sheet.col_values(4))\n",
    "BIDSize2 = np.array(first_sheet.col_values(5))\n",
    "BIDSize3 = np.array(first_sheet.col_values(6))\n",
    "BIDSize4 = np.array(first_sheet.col_values(7))\n",
    "BIDSize5 = np.array(first_sheet.col_values(8))\n",
    "ASKSize2 = np.array(first_sheet.col_values(9))\n",
    "ASKSize3 = np.array(first_sheet.col_values(10))\n",
    "ASKSize4 = np.array(first_sheet.col_values(11))\n",
    "ASKSize5 = np.array(first_sheet.col_values(12))"
   ]
  },
  {
   "cell_type": "code",
   "execution_count": 5,
   "metadata": {
    "collapsed": false
   },
   "outputs": [],
   "source": [
    "def moving_average(x, N):\n",
    "    cumsum = np.cumsum(np.insert(x, 0, 0)) \n",
    "    return (cumsum[N:] - cumsum[:-N])/N                 \n",
    "MovingAVR1 [101:] = moving_average(averageFB[91:-1], 10)\n",
    "MovingAVR2 [101:] = moving_average(averageFB[81:-1], 20)\n",
    "MovingAVR3 [101:] = moving_average(averageFB[71:-1], 30)\n",
    "MovingAVR4 [101:] = moving_average(averageFB[61:-1], 40)\n",
    "MovingAVR5 [101:] = moving_average(averageFB[51:-1], 50)"
   ]
  },
  {
   "cell_type": "code",
   "execution_count": 15,
   "metadata": {
    "collapsed": true
   },
   "outputs": [],
   "source": [
    "#Trend Indicator\n",
    "TrendIndic1[101:] = MovingAVR1[101:]-averageFB[101:]\n",
    "TrendIndic2[101:] = MovingAVR2[101:]-averageFB[101:]\n",
    "TrendIndic3[101:] = MovingAVR3[101:]-averageFB[101:]\n",
    "TrendIndic4[101:] = MovingAVR4[101:]-averageFB[101:]\n",
    "TrendIndic5[101:] = MovingAVR5[101:]-averageFB[101:]"
   ]
  },
  {
   "cell_type": "code",
   "execution_count": 16,
   "metadata": {
    "collapsed": false
   },
   "outputs": [],
   "source": [
    "#Book Indicator   \n",
    "BookIndic1[101:]=-BIDSize1[101:]\n",
    "-BIDSize2[101:]\n",
    "-BIDSize3[101:]\n",
    "-BIDSize4[101:]\n",
    "-BIDSize5[101:]\n",
    "+ASKSize1[101:]\n",
    "+ASKSize2[101:]\n",
    "+ASKSize3[101:]\n",
    "+ASKSize4[101:]\n",
    "+ASKSize5[101:]\n",
    "\n",
    "BookIndic2[101:]=-BIDSize1[101:]-BIDSize2[101:]+ASKSize1[101:]+ASKSize2[101:]"
   ]
  },
  {
   "cell_type": "code",
   "execution_count": 17,
   "metadata": {
    "collapsed": true
   },
   "outputs": [],
   "source": [
    "AverageDif[101:-1] = averageFB[102:]-averageFB[101:-1]"
   ]
  },
  {
   "cell_type": "code",
   "execution_count": 29,
   "metadata": {
    "collapsed": false
   },
   "outputs": [],
   "source": [
    "from sklearn.linear_model import Ridge\n",
    "\n",
    "def function(mas1,mas2,mas3,mas4,mas5,mas6,mas7,mas8,a1,a2,a3,a4,a5,a6,a7):\n",
    "    u = np.vstack([mas1, mas2, mas3,mas4,mas5,mas6,mas7]).T\n",
    "    regr = Ridge(alpha=2, fit_intercept=True)\n",
    "    regr.fit(u, mas8)\n",
    "    return regr.predict([[a1,a2,a3,a4,a5,a6,a7]])[0], regr.score(u, mas8, sample_weight=None),regr.intercept_\n",
    "\n",
    "for i in xrange(102, nrows):\n",
    "     reg[i],R[i],Intersept[i]= function(TrendIndic1[i-100:i-1],\n",
    "                                        TrendIndic2[i-100:i-1],\n",
    "                                        TrendIndic3[i-100:i-1],\n",
    "                                        TrendIndic4[i-100:i-1],\n",
    "                                        TrendIndic5[i-100:i-1],\n",
    "                                        BookIndic1[i-100:i-1],\n",
    "                                        BookIndic2[i-100:i-1],\n",
    "                                        AverageDif[i-100:i-1],\n",
    "                                        TrendIndic1[i-1],\n",
    "                                        TrendIndic2[i-1],\n",
    "                                        TrendIndic3[i-1],\n",
    "                                        TrendIndic4[i-1],\n",
    "                                        TrendIndic5[i-1],\n",
    "                                        BookIndic1[i-1],\n",
    "                                        BookIndic2[i-1])"
   ]
  },
  {
   "cell_type": "code",
   "execution_count": 30,
   "metadata": {
    "collapsed": true
   },
   "outputs": [],
   "source": [
    "##########################calculating Indicators\n",
    "for i in xrange(5,nrows-2):\n",
    "    if R[i] >= 0.7 and reg[i] > Intersept[i]+Threshold:\n",
    "        IndicatorBUY[i]=1\n",
    "    if R[i] >= 0.7 and reg[i] < Intersept[i]-Threshold:\n",
    "        IndicatorSELL[i]=1\n",
    "    \n",
    "        \n",
    "###############################################calculating Position\n",
    "Position = np.zeros(nrows)\n",
    "Pos = 0\n",
    "\n",
    "number_trades = 0\n",
    "\n",
    "for i in xrange(nrows):\n",
    "    if IndicatorBUY[i] == 1 and Pos < Maxposition and ASKSize1[i] >= lot: \n",
    "        Pos=Pos+1\n",
    "        number_trades = number_trades+lot\n",
    "    if IndicatorSELL[i] == 1 and Pos > Minposition and BIDSize1[i] >= lot:\n",
    "        Pos = Pos-1\n",
    "        number_trades = number_trades+lot\n",
    "    Position[i]=Pos\n",
    "    \n",
    "###############################################calculating PNL    \n",
    "#print Position\n",
    "for i in range(1,len(first_sheet.col_values(0))-2,1):\n",
    "    PNL[i]=PNL[i-1]\n",
    "    if Position[i-1]>=0:\n",
    "        PNL[i]=PNL[i]+Position[i-1]*(FB[i]-FB[i-1])\n",
    "    else:\n",
    "        PNL[i]=PNL[i]+Position[i-1]*(FA[i]-FA[i-1])\n",
    "\n",
    "    if Position[i] > 0 and Position[i-1] <= 0:\n",
    "        PNL[i]=PNL[i]-Position[i]*(FA[i]-FB[i])\n",
    "    elif Position[i] < 0 and Position[i-1] >= 0:\n",
    "        PNL[i]=PNL[i]+Position[i]*(FA[i]-FB[i])\n",
    "    elif Position[i] > 0 and Position[i-1] >= 0 and Position[i] >= Position[i-1]:\n",
    "        PNL[i]=PNL[i]-(Position[i]-Position[i-1])*(FA[i]-FB[i])\n",
    "    elif Position[i] <= 0 and Position[i-1] <= 0 and Position[i] <= Position[i-1]:\n",
    "        PNL[i]=PNL[i]-(Position[i-1]-Position[i])*(FA[i]-FB[i])"
   ]
  },
  {
   "cell_type": "code",
   "execution_count": 31,
   "metadata": {
    "collapsed": false
   },
   "outputs": [
    {
     "name": "stdout",
     "output_type": "stream",
     "text": [
      "Total PNL = -11200.0\n",
      "Number of trades = 7000\n"
     ]
    },
    {
     "data": {
      "image/png": "[encoded data removed]",
      "text/plain": [
       "<matplotlib.figure.Figure at 0x15dca668>"
      ]
     },
     "metadata": {},
     "output_type": "display_data"
    }
   ],
   "source": [
    "print \"Total PNL = %s\" %PNL[len(first_sheet.col_values(0))-3]\n",
    "print \"Number of trades = %s\" %(number_trades)\n",
    "\n",
    "import matplotlib.pyplot as plt\n",
    "plt.plot(PNL[1:len(first_sheet.col_values(0))-3])\n",
    "plt.show()"
   ]
  },
  {
   "cell_type": "code",
   "execution_count": null,
   "metadata": {
    "collapsed": true
   },
   "outputs": [],
   "source": []
  }
 ],
 "metadata": {
  "anaconda-cloud": {},
  "kernelspec": {
   "display_name": "Python [conda env:py2_env]",
   "language": "python",
   "name": "conda-env-py2_env-py"
  },
  "language_info": {
   "codemirror_mode": {
    "name": "ipython",
    "version": 2
   },
   "file_extension": ".py",
   "mimetype": "text/x-python",
   "name": "python",
   "nbconvert_exporter": "python",
   "pygments_lexer": "ipython2",
   "version": "2.7.12"
  }
 },
 "nbformat": 4,
 "nbformat_minor": 1
}
